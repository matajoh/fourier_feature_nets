{
 "cells": [
  {
   "cell_type": "markdown",
   "id": "quarterly-upper",
   "metadata": {},
   "source": [
    "$$\n",
    "\\hat{C}(r)=\\sum_{i=1}^N T_i\\left(1 - \\exp(-\\sigma_i\\delta_i)\\right)c_i \\\\\n",
    "T_i=\\exp\\left(-\\sum_{j=1}^{i-1}\\sigma_j\\delta_j\\right)\n",
    "$$"
   ]
  },
  {
   "cell_type": "code",
   "execution_count": null,
   "id": "educated-cleaners",
   "metadata": {},
   "outputs": [],
   "source": []
  }
 ],
 "metadata": {
  "kernelspec": {
   "display_name": "Python 3",
   "language": "python",
   "name": "python3"
  },
  "language_info": {
   "codemirror_mode": {
    "name": "ipython",
    "version": 3
   },
   "file_extension": ".py",
   "mimetype": "text/x-python",
   "name": "python",
   "nbconvert_exporter": "python",
   "pygments_lexer": "ipython3",
   "version": "3.7.9"
  }
 },
 "nbformat": 4,
 "nbformat_minor": 5
}
